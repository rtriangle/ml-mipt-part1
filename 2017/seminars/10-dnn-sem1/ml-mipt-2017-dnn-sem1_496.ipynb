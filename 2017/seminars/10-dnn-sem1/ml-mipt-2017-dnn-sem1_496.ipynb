{
 "cells": [
  {
   "cell_type": "markdown",
   "metadata": {
    "collapsed": true
   },
   "source": [
    "<h1> Deep Learning Seminar 1</h1>\n",
    "Author: Arseny Ashukha\n",
    "\n",
    "* Credit cs231n.stanford.edu\n",
    "\n",
    "Review by: Alexey Romanenko\n"
   ]
  },
  {
   "cell_type": "markdown",
   "metadata": {},
   "source": [
    "<h2 align=\"center\">What was at Lecture?</h2>\n",
    "\n",
    "- Image Classification \n",
    "\n",
    "<img src=\"img/img-clf.png\" width=\"600\">\n",
    "\n",
    "- Linear Models (Что делает линейная модель простым языком)\n",
    "\n",
    "<img src=\"img/lm.png\" width=\"600\">\n",
    "<img src=\"img/lm-int.png\" width=\"600\">\n",
    "\n",
    "- Fully Connected Neural Nets\n",
    "\n",
    "<img src=\"img/fc-net.png\" width=\"600\">\n",
    "\n",
    "- Convolution Neural Nets (Какая мотивация при переходе к сверткам?)\n",
    "\n",
    "<img src=\"img/conv.png\" width=\"600\">\n",
    "\n",
    "- Зачем нужен backprop? \n",
    "\n",
    "<img src=\"img/bp.png\" width=\"600\">\n",
    "\n",
    "The `forward` function will receive inputs, weights, and other parameters and will return both an output and a `cache` object storing data needed for the backward pass, like this:\n",
    "\n",
    "```python\n",
    "def layer_forward(x, w):\n",
    "  \"\"\" Receive inputs x and weights w \"\"\"\n",
    "  # Do some computations ...\n",
    "  z = # ... some intermediate value\n",
    "  # Do some more computations ...\n",
    "  out = # the output\n",
    "   \n",
    "  cache = (x, w, z, out) # Values we need to compute gradients\n",
    "   \n",
    "  return out, cache\n",
    "```\n",
    "\n",
    "The backward pass will receive upstream derivatives and the `cache` object, and will return gradients with respect to the inputs and weights, like this:\n",
    "\n",
    "```python\n",
    "def layer_backward(dout, cache):\n",
    "  \"\"\"\n",
    "  Receive derivative of loss with respect to outputs and cache,\n",
    "  and compute derivative with respect to inputs.\n",
    "  \"\"\"\n",
    "  # Unpack cache values\n",
    "  x, w, z, out = cache\n",
    "  \n",
    "  # Use values in cache to compute derivatives\n",
    "  dx = # Derivative of loss with respect to x\n",
    "  dw = # Derivative of loss with respect to w\n",
    "  \n",
    "  return dx, dw\n",
    "```\n",
    "\n",
    "- В чём идея backprop, в чём отличия от обычного градиентного спуска?\n",
    "<img src=\"img/NNExample.png\" width=\"600\">\n",
    "<img src=\"img/bp_idea.png\" width=\"600\">\n",
    "<a href='http://www.machinelearning.ru/wiki/images/6/6d/Voron-ML-1.pdf'>К.В. Воронцов, 6.2.1 </a>\n",
    "\n",
    "- Что нужно накрутить на SGD чтобы получить хорошие методы стах оптимизации?\n",
    "\n",
    "<img src=\"img/adam.png\" width=\"600\">"
   ]
  },
  {
   "cell_type": "markdown",
   "metadata": {},
   "source": [
    "<h2 align=\"center\">BackProp and Optimizers</h2>"
   ]
  },
  {
   "cell_type": "code",
   "execution_count": 2,
   "metadata": {
    "collapsed": false
   },
   "outputs": [],
   "source": [
    "import numpy as np\n",
    "from scipy.optimize import check_grad\n",
    "from gradient_check import eval_numerical_gradient_array\n",
    "\n",
    "def rel_error(x, y):\n",
    "      return np.max(np.abs(x - y) / (np.maximum(1e-8, np.abs(x) + np.abs(y))))"
   ]
  },
  {
   "cell_type": "markdown",
   "metadata": {},
   "source": [
    "<h3>Grad Check</h3>"
   ]
  },
  {
   "cell_type": "markdown",
   "metadata": {
    "collapsed": true
   },
   "source": [
    "<img src=\"img/gc.png\" width=\"600\">"
   ]
  },
  {
   "cell_type": "markdown",
   "metadata": {},
   "source": [
    "<h3>Softmax Loss Layer</h3>\n",
    "<img src=\"img/loss.png\" width=\"300\">\n",
    "<img src=\"img/log.png\" width=\"600\">"
   ]
  },
  {
   "cell_type": "code",
   "execution_count": 12,
   "metadata": {
    "collapsed": true
   },
   "outputs": [],
   "source": [
    " def softmax_loss(x, y):\n",
    "    \"\"\"\n",
    "    Computes the loss and gradient for softmax classification.\n",
    "\n",
    "    Inputs:\n",
    "    - x: Input data, of shape (N, C) where x[i, j] is the score for the jth class\n",
    "    for the ith input.\n",
    "    - y: Vector of labels, of shape (N,) where y[i] is the label for x[i] and\n",
    "    0 <= y[i] < C\n",
    "\n",
    "    Returns a tuple of:\n",
    "    - loss: Scalar giving the loss\n",
    "    - dx: Gradient of the loss with respect to x\n",
    "    \"\"\"\n",
    "    probs = np.exp(x - np.max(x, axis=1, keepdims=True))\n",
    "    probs /= np.sum(probs, axis=1, keepdims=True)\n",
    "    N = x.shape[0]\n",
    "    loss = -np.sum(np.log(probs[np.arange(N), y]+1e-8)) / N\n",
    "\n",
    "    dx = probs.copy()\n",
    "    dx[np.arange(N), y] -= 1\n",
    "    dx /= N\n",
    "    return loss, dx"
   ]
  },
  {
   "cell_type": "code",
   "execution_count": 13,
   "metadata": {
    "collapsed": true
   },
   "outputs": [],
   "source": [
    "y = np.random.randint(0, 3, 10)\n",
    "dx = lambda x: softmax_loss(x.reshape((10, 3)), y)[1].reshape(-1)\n",
    "loss = lambda x: softmax_loss(x.reshape((10, 3)), y)[0]"
   ]
  },
  {
   "cell_type": "code",
   "execution_count": 14,
   "metadata": {
    "collapsed": false
   },
   "outputs": [
    {
     "name": "stdout",
     "output_type": "stream",
     "text": [
      "loss is a scalar\n",
      "1.12895855712\n"
     ]
    }
   ],
   "source": [
    "print 'loss is a scalar\\n', loss(np.random.random((10, 3)))"
   ]
  },
  {
   "cell_type": "code",
   "execution_count": 15,
   "metadata": {
    "collapsed": false
   },
   "outputs": [
    {
     "name": "stdout",
     "output_type": "stream",
     "text": [
      "gradient is a matrix with shape 10x3\n",
      "[ 0.03747588 -0.06436533  0.02688945 -0.06794688  0.04279045  0.02515643\n",
      "  0.03393769 -0.07550295  0.04156526  0.04052951  0.03506419 -0.0755937\n",
      " -0.07177359  0.02490407  0.04686952  0.02485534 -0.04820482  0.02334948\n",
      "  0.03945815  0.02014369 -0.05960184  0.03191296 -0.07040069  0.03848774\n",
      " -0.06215831  0.03749552  0.0246628   0.02454615  0.04801298 -0.07255913]\n"
     ]
    }
   ],
   "source": [
    "print 'gradient is a matrix with shape 10x3\\n', dx(np.random.random((10, 3)))"
   ]
  },
  {
   "cell_type": "code",
   "execution_count": 10,
   "metadata": {
    "collapsed": false
   },
   "outputs": [
    {
     "name": "stdout",
     "output_type": "stream",
     "text": [
      "difference should be ~10e-8 3.80319654936e-08\n"
     ]
    }
   ],
   "source": [
    "print 'difference should be ~10e-8', check_grad(loss, dx, np.random.random((10, 3)).reshape(-1))"
   ]
  },
  {
   "cell_type": "markdown",
   "metadata": {},
   "source": [
    "<h3>Dense Layer</h3>\n",
    "<img src=\"img/lin.png\" width=\"300\">"
   ]
  },
  {
   "cell_type": "code",
   "execution_count": 17,
   "metadata": {
    "collapsed": true
   },
   "outputs": [],
   "source": [
    "def affine_forward(x, w, b):\n",
    "    \"\"\"\n",
    "    Computes the forward pass for an affine (fully-connected) layer.\n",
    "\n",
    "    The input x has shape (N, d_1, ..., d_k) and contains a minibatch of N\n",
    "    examples, where each example x[i] has shape (d_1, ..., d_k). We will\n",
    "    reshape each input into a vector of dimension D = d_1 * ... * d_k, and\n",
    "    then transform it to an output vector of dimension M.\n",
    "\n",
    "    Inputs:\n",
    "    - x: A numpy array containing input data, of shape (N, d_1, ..., d_k)\n",
    "    - w: A numpy array of weights, of shape (D, M)\n",
    "    - b: A numpy array of biases, of shape (M,)\n",
    "\n",
    "    Returns a tuple of:\n",
    "    - out: output, of shape (N, M)\n",
    "    - cache: (x, w, b)\n",
    "    \"\"\"\n",
    "    out = None\n",
    "    \n",
    "    #############################################################################\n",
    "    # TODO: Implement the affine forward pass. Store the result in out. You     #\n",
    "    # will need to reshape the input into rows.                                 #\n",
    "    #############################################################################\n",
    "    N = x.shape[0]\n",
    "    newx = x.reshape((N,-1))\n",
    "    out = newx.dot(w) + b\n",
    "    #############################################################################\n",
    "    #                             END OF YOUR CODE                              #\n",
    "    #############################################################################\n",
    "    cache = (x, w, b)\n",
    "    return out, cache"
   ]
  },
  {
   "cell_type": "code",
   "execution_count": 18,
   "metadata": {
    "collapsed": false
   },
   "outputs": [
    {
     "name": "stdout",
     "output_type": "stream",
     "text": [
      "Testing affine_forward function:\n",
      "difference:  9.76984772881e-10\n"
     ]
    }
   ],
   "source": [
    "# Test the affine_forward function\n",
    "\n",
    "num_inputs = 2\n",
    "input_shape = (4, 5, 6)\n",
    "output_dim = 3\n",
    "\n",
    "input_size = num_inputs * np.prod(input_shape)\n",
    "weight_size = output_dim * np.prod(input_shape)\n",
    "\n",
    "x = np.linspace(-0.1, 0.5, num=input_size).reshape(num_inputs, *input_shape)\n",
    "w = np.linspace(-0.2, 0.3, num=weight_size).reshape(np.prod(input_shape), output_dim)\n",
    "b = np.linspace(-0.3, 0.1, num=output_dim)\n",
    "\n",
    "out, _ = affine_forward(x, w, b)\n",
    "correct_out = np.array([[ 1.49834967,  1.70660132,  1.91485297],\n",
    "                        [ 3.25553199,  3.5141327,   3.77273342]])\n",
    "\n",
    "# Compare your output with ours. The error should be around 1e-9.\n",
    "print 'Testing affine_forward function:'\n",
    "print 'difference: ', rel_error(out, correct_out)"
   ]
  },
  {
   "cell_type": "code",
   "execution_count": 22,
   "metadata": {
    "collapsed": false
   },
   "outputs": [
    {
     "data": {
      "text/plain": [
       "array([[ -1.00000000e-01,  -9.74895397e-02,  -9.49790795e-02,\n",
       "         -9.24686192e-02,  -8.99581590e-02,  -8.74476987e-02,\n",
       "         -8.49372385e-02,  -8.24267782e-02,  -7.99163180e-02,\n",
       "         -7.74058577e-02,  -7.48953975e-02,  -7.23849372e-02,\n",
       "         -6.98744770e-02,  -6.73640167e-02,  -6.48535565e-02,\n",
       "         -6.23430962e-02,  -5.98326360e-02,  -5.73221757e-02,\n",
       "         -5.48117155e-02,  -5.23012552e-02,  -4.97907950e-02,\n",
       "         -4.72803347e-02,  -4.47698745e-02,  -4.22594142e-02,\n",
       "         -3.97489540e-02,  -3.72384937e-02,  -3.47280335e-02,\n",
       "         -3.22175732e-02,  -2.97071130e-02,  -2.71966527e-02,\n",
       "         -2.46861925e-02,  -2.21757322e-02,  -1.96652720e-02,\n",
       "         -1.71548117e-02,  -1.46443515e-02,  -1.21338912e-02,\n",
       "         -9.62343096e-03,  -7.11297071e-03,  -4.60251046e-03,\n",
       "         -2.09205021e-03,   4.18410042e-04,   2.92887029e-03,\n",
       "          5.43933054e-03,   7.94979079e-03,   1.04602510e-02,\n",
       "          1.29707113e-02,   1.54811715e-02,   1.79916318e-02,\n",
       "          2.05020921e-02,   2.30125523e-02,   2.55230126e-02,\n",
       "          2.80334728e-02,   3.05439331e-02,   3.30543933e-02,\n",
       "          3.55648536e-02,   3.80753138e-02,   4.05857741e-02,\n",
       "          4.30962343e-02,   4.56066946e-02,   4.81171548e-02,\n",
       "          5.06276151e-02,   5.31380753e-02,   5.56485356e-02,\n",
       "          5.81589958e-02,   6.06694561e-02,   6.31799163e-02,\n",
       "          6.56903766e-02,   6.82008368e-02,   7.07112971e-02,\n",
       "          7.32217573e-02,   7.57322176e-02,   7.82426778e-02,\n",
       "          8.07531381e-02,   8.32635983e-02,   8.57740586e-02,\n",
       "          8.82845188e-02,   9.07949791e-02,   9.33054393e-02,\n",
       "          9.58158996e-02,   9.83263598e-02,   1.00836820e-01,\n",
       "          1.03347280e-01,   1.05857741e-01,   1.08368201e-01,\n",
       "          1.10878661e-01,   1.13389121e-01,   1.15899582e-01,\n",
       "          1.18410042e-01,   1.20920502e-01,   1.23430962e-01,\n",
       "          1.25941423e-01,   1.28451883e-01,   1.30962343e-01,\n",
       "          1.33472803e-01,   1.35983264e-01,   1.38493724e-01,\n",
       "          1.41004184e-01,   1.43514644e-01,   1.46025105e-01,\n",
       "          1.48535565e-01,   1.51046025e-01,   1.53556485e-01,\n",
       "          1.56066946e-01,   1.58577406e-01,   1.61087866e-01,\n",
       "          1.63598326e-01,   1.66108787e-01,   1.68619247e-01,\n",
       "          1.71129707e-01,   1.73640167e-01,   1.76150628e-01,\n",
       "          1.78661088e-01,   1.81171548e-01,   1.83682008e-01,\n",
       "          1.86192469e-01,   1.88702929e-01,   1.91213389e-01,\n",
       "          1.93723849e-01,   1.96234310e-01,   1.98744770e-01],\n",
       "       [  2.01255230e-01,   2.03765690e-01,   2.06276151e-01,\n",
       "          2.08786611e-01,   2.11297071e-01,   2.13807531e-01,\n",
       "          2.16317992e-01,   2.18828452e-01,   2.21338912e-01,\n",
       "          2.23849372e-01,   2.26359833e-01,   2.28870293e-01,\n",
       "          2.31380753e-01,   2.33891213e-01,   2.36401674e-01,\n",
       "          2.38912134e-01,   2.41422594e-01,   2.43933054e-01,\n",
       "          2.46443515e-01,   2.48953975e-01,   2.51464435e-01,\n",
       "          2.53974895e-01,   2.56485356e-01,   2.58995816e-01,\n",
       "          2.61506276e-01,   2.64016736e-01,   2.66527197e-01,\n",
       "          2.69037657e-01,   2.71548117e-01,   2.74058577e-01,\n",
       "          2.76569038e-01,   2.79079498e-01,   2.81589958e-01,\n",
       "          2.84100418e-01,   2.86610879e-01,   2.89121339e-01,\n",
       "          2.91631799e-01,   2.94142259e-01,   2.96652720e-01,\n",
       "          2.99163180e-01,   3.01673640e-01,   3.04184100e-01,\n",
       "          3.06694561e-01,   3.09205021e-01,   3.11715481e-01,\n",
       "          3.14225941e-01,   3.16736402e-01,   3.19246862e-01,\n",
       "          3.21757322e-01,   3.24267782e-01,   3.26778243e-01,\n",
       "          3.29288703e-01,   3.31799163e-01,   3.34309623e-01,\n",
       "          3.36820084e-01,   3.39330544e-01,   3.41841004e-01,\n",
       "          3.44351464e-01,   3.46861925e-01,   3.49372385e-01,\n",
       "          3.51882845e-01,   3.54393305e-01,   3.56903766e-01,\n",
       "          3.59414226e-01,   3.61924686e-01,   3.64435146e-01,\n",
       "          3.66945607e-01,   3.69456067e-01,   3.71966527e-01,\n",
       "          3.74476987e-01,   3.76987448e-01,   3.79497908e-01,\n",
       "          3.82008368e-01,   3.84518828e-01,   3.87029289e-01,\n",
       "          3.89539749e-01,   3.92050209e-01,   3.94560669e-01,\n",
       "          3.97071130e-01,   3.99581590e-01,   4.02092050e-01,\n",
       "          4.04602510e-01,   4.07112971e-01,   4.09623431e-01,\n",
       "          4.12133891e-01,   4.14644351e-01,   4.17154812e-01,\n",
       "          4.19665272e-01,   4.22175732e-01,   4.24686192e-01,\n",
       "          4.27196653e-01,   4.29707113e-01,   4.32217573e-01,\n",
       "          4.34728033e-01,   4.37238494e-01,   4.39748954e-01,\n",
       "          4.42259414e-01,   4.44769874e-01,   4.47280335e-01,\n",
       "          4.49790795e-01,   4.52301255e-01,   4.54811715e-01,\n",
       "          4.57322176e-01,   4.59832636e-01,   4.62343096e-01,\n",
       "          4.64853556e-01,   4.67364017e-01,   4.69874477e-01,\n",
       "          4.72384937e-01,   4.74895397e-01,   4.77405858e-01,\n",
       "          4.79916318e-01,   4.82426778e-01,   4.84937238e-01,\n",
       "          4.87447699e-01,   4.89958159e-01,   4.92468619e-01,\n",
       "          4.94979079e-01,   4.97489540e-01,   5.00000000e-01]])"
      ]
     },
     "execution_count": 22,
     "metadata": {},
     "output_type": "execute_result"
    }
   ],
   "source": [
    "x = np.linspace(-0.1, 0.5, num=input_size).reshape(num_inputs, *input_shape)\n",
    "x.reshape((x.shape[0],-1))"
   ]
  },
  {
   "cell_type": "code",
   "execution_count": 27,
   "metadata": {
    "collapsed": true
   },
   "outputs": [],
   "source": [
    "def affine_backward(dout, cache):\n",
    "    \"\"\"\n",
    "    Computes the backward pass for an affine layer.\n",
    "\n",
    "    Inputs:\n",
    "    - dout: Upstream derivative, of shape (N, M)\n",
    "    - cache: Tuple of:\n",
    "    - x: Input data, of shape (N, d_1, ... d_k)\n",
    "    - w: Weights, of shape (D, M)\n",
    "\n",
    "    Returns a tuple of:\n",
    "    - dx: Gradient with respect to x, of shape (N, d1, ..., d_k)\n",
    "    - dw: Gradient with respect to w, of shape (D, M)\n",
    "    - db: Gradient with respect to b, of shape (M,)\n",
    "    \"\"\"\n",
    "    x, w, b = cache\n",
    "    dx, dw, db = None, None, None\n",
    "    #############################################################################\n",
    "    # TODO: Implement the affine backward pass.                                 #\n",
    "    #############################################################################\n",
    "    N = x.shape[0]\n",
    "    D = np.prod(x.shape[1:])\n",
    "    x2 = np.reshape(x, (N, D))\n",
    "\n",
    "    dx2 = np.dot(dout, w.T) # N x D\n",
    "    dw = np.dot(x2.T, dout) # D x M\n",
    "    db = np.dot(dout.T, np.ones(N)) # M x 1\n",
    "\n",
    "    dx = np.reshape(dx2, x.shape)\n",
    "    #############################################################################\n",
    "    #                             END OF YOUR CODE                              #\n",
    "    #############################################################################\n",
    "    return dx, dw, db"
   ]
  },
  {
   "cell_type": "code",
   "execution_count": 28,
   "metadata": {
    "collapsed": false
   },
   "outputs": [
    {
     "name": "stdout",
     "output_type": "stream",
     "text": [
      "Testing affine_backward function:\n",
      "dx error:  3.97783483783e-10\n",
      "dw error:  2.08648257821e-10\n",
      "db error:  7.70800322902e-12\n"
     ]
    }
   ],
   "source": [
    "# Test the affine_backward function\n",
    "\n",
    "x = np.random.randn(10, 2, 3)\n",
    "w = np.random.randn(6, 5)\n",
    "b = np.random.randn(5)\n",
    "dout = np.random.randn(10, 5)\n",
    "\n",
    "dx_num = eval_numerical_gradient_array(lambda x: affine_forward(x, w, b)[0], x, dout)\n",
    "dw_num = eval_numerical_gradient_array(lambda w: affine_forward(x, w, b)[0], w, dout)\n",
    "db_num = eval_numerical_gradient_array(lambda b: affine_forward(x, w, b)[0], b, dout)\n",
    "\n",
    "_, cache = affine_forward(x, w, b)\n",
    "dx, dw, db = affine_backward(dout, cache)\n",
    "\n",
    "# The error should be around 1e-10\n",
    "print 'Testing affine_backward function:'\n",
    "print 'dx error: ', rel_error(dx_num, dx)\n",
    "print 'dw error: ', rel_error(dw_num, dw)\n",
    "print 'db error: ', rel_error(db_num, db)"
   ]
  },
  {
   "cell_type": "markdown",
   "metadata": {},
   "source": [
    "<h3>ReLu Layer</h3>\n",
    "\n",
    "$$ReLu(x) = max(0, x)$$"
   ]
  },
  {
   "cell_type": "code",
   "execution_count": 29,
   "metadata": {
    "collapsed": true
   },
   "outputs": [],
   "source": [
    "def relu_forward(x):\n",
    "    \"\"\"\n",
    "    Computes the forward pass for a layer of rectified linear units (ReLUs).\n",
    "\n",
    "    Input:\n",
    "    - x: Inputs, of any shape\n",
    "\n",
    "    Returns a tuple of:\n",
    "    - out: Output, of the same shape as x\n",
    "    - cache: x\n",
    "    \"\"\"\n",
    "    out = None\n",
    "    #############################################################################\n",
    "    # TODO: Implement the ReLU forward pass.                                    #\n",
    "    #############################################################################\n",
    "    out = (x>0) * x\n",
    "    #############################################################################\n",
    "    #                             END OF YOUR CODE                              #\n",
    "    #############################################################################\n",
    "    cache = x\n",
    "    return out, cache"
   ]
  },
  {
   "cell_type": "code",
   "execution_count": 30,
   "metadata": {
    "collapsed": false
   },
   "outputs": [
    {
     "name": "stdout",
     "output_type": "stream",
     "text": [
      "Testing relu_forward function:\n",
      "difference:  4.99999979802e-08\n"
     ]
    }
   ],
   "source": [
    "# Test the relu_forward function\n",
    "\n",
    "x = np.linspace(-0.5, 0.5, num=12).reshape(3, 4)\n",
    "\n",
    "out, _ = relu_forward(x)\n",
    "correct_out = np.array([[ 0.,          0.,          0.,          0.,        ],\n",
    "                        [ 0.,          0.,          0.04545455,  0.13636364,],\n",
    "                        [ 0.22727273,  0.31818182,  0.40909091,  0.5,       ]])\n",
    "\n",
    "# Compare your output with ours. The error should be around 1e-8\n",
    "print 'Testing relu_forward function:'\n",
    "print 'difference: ', rel_error(out, correct_out)"
   ]
  },
  {
   "cell_type": "code",
   "execution_count": 31,
   "metadata": {
    "collapsed": true
   },
   "outputs": [],
   "source": [
    "def relu_backward(dout, cache):\n",
    "    \"\"\"\n",
    "    Computes the backward pass for a layer of rectified linear units (ReLUs).\n",
    "\n",
    "    Input:\n",
    "    - dout: Upstream derivatives, of any shape\n",
    "    - cache: Input x, of same shape as dout\n",
    "\n",
    "    Returns:\n",
    "    - dx: Gradient with respect to x\n",
    "    \"\"\"\n",
    "    dx, x = None, cache\n",
    "    #############################################################################\n",
    "    # TODO: Implement the ReLU backward pass.                                   #\n",
    "    #############################################################################\n",
    "    dx = dout * (x >= 0) \n",
    "    dx = dx.reshape(*x.shape)\n",
    "    #############################################################################\n",
    "    #                             END OF YOUR CODE                              #\n",
    "    #############################################################################\n",
    "    return dx"
   ]
  },
  {
   "cell_type": "code",
   "execution_count": 32,
   "metadata": {
    "collapsed": false
   },
   "outputs": [
    {
     "name": "stdout",
     "output_type": "stream",
     "text": [
      "Testing relu_backward function:\n",
      "dx error:  3.27563350225e-12\n"
     ]
    }
   ],
   "source": [
    "x = np.random.randn(10, 10)\n",
    "dout = np.random.randn(*x.shape)\n",
    "\n",
    "dx_num = eval_numerical_gradient_array(lambda x: relu_forward(x)[0], x, dout)\n",
    "\n",
    "_, cache = relu_forward(x)\n",
    "dx = relu_backward(dout, cache)\n",
    "\n",
    "# The error should be around 1e-12\n",
    "print 'Testing relu_backward function:'\n",
    "print 'dx error: ', rel_error(dx_num, dx)"
   ]
  },
  {
   "cell_type": "markdown",
   "metadata": {},
   "source": [
    "<h3>Two Layer Fully Connected Neural Net with SGD</h3>"
   ]
  },
  {
   "cell_type": "code",
   "execution_count": 33,
   "metadata": {
    "collapsed": false
   },
   "outputs": [
    {
     "name": "stdout",
     "output_type": "stream",
     "text": [
      "Populating the interactive namespace from numpy and matplotlib\n"
     ]
    }
   ],
   "source": [
    "from sklearn.datasets import load_digits\n",
    "from sklearn.metrics import accuracy_score\n",
    "from sklearn.model_selection import train_test_split\n",
    "\n",
    "%pylab inline\n",
    "\n",
    "X, y = load_digits(return_X_y=True)\n",
    "X_train, X_test, y_train, y_test = train_test_split(X, y, train_size=0.7)"
   ]
  },
  {
   "cell_type": "code",
   "execution_count": 34,
   "metadata": {
    "collapsed": false
   },
   "outputs": [
    {
     "data": {
      "text/plain": [
       "<matplotlib.image.AxesImage at 0xa122f60>"
      ]
     },
     "execution_count": 34,
     "metadata": {},
     "output_type": "execute_result"
    },
    {
     "data": {
      "image/png": "[encoded data removed]",
      "text/plain": [
       "<matplotlib.figure.Figure at 0x6606400>"
      ]
     },
     "metadata": {},
     "output_type": "display_data"
    }
   ],
   "source": [
    "pylab.imshow(X[5].reshape((8, 8)), cmap='gray')"
   ]
  },
  {
   "cell_type": "code",
   "execution_count": 36,
   "metadata": {
    "collapsed": false
   },
   "outputs": [
    {
     "name": "stdout",
     "output_type": "stream",
     "text": [
      "epoch 0: \t tr_loss 16.21 \t te_loss 16.71 \t te_acc 0.0925925925926\n",
      "epoch 1000: \t tr_loss 5.82 \t te_loss 4.37 \t te_acc 0.659259259259\n",
      "epoch 2000: \t tr_loss 2.14 \t te_loss 2.01 \t te_acc 0.818518518519\n",
      "epoch 3000: \t tr_loss 2.21 \t te_loss 1.56 \t te_acc 0.844444444444\n",
      "epoch 4000: \t tr_loss 1.49 \t te_loss 1.39 \t te_acc 0.857407407407\n",
      "epoch 5000: \t tr_loss 1.46 \t te_loss 1.14 \t te_acc 0.87962962963\n",
      "epoch 6000: \t tr_loss 0.73 \t te_loss 0.99 \t te_acc 0.890740740741\n",
      "epoch 7000: \t tr_loss 0.56 \t te_loss 0.95 \t te_acc 0.898148148148\n",
      "epoch 8000: \t tr_loss 0.25 \t te_loss 0.84 \t te_acc 0.907407407407\n",
      "epoch 9000: \t tr_loss 0.25 \t te_loss 0.92 \t te_acc 0.887037037037\n",
      "epoch 10000: \t tr_loss 0.23 \t te_loss 0.85 \t te_acc 0.894444444444\n",
      "epoch 11000: \t tr_loss 0.29 \t te_loss 0.92 \t te_acc 0.9\n",
      "epoch 12000: \t tr_loss 2.14 \t te_loss 1.02 \t te_acc 0.905555555556\n",
      "epoch 13000: \t tr_loss 0.57 \t te_loss 0.73 \t te_acc 0.911111111111\n",
      "epoch 14000: \t tr_loss 0.14 \t te_loss 0.69 \t te_acc 0.92037037037\n",
      "epoch 15000: \t tr_loss 0.67 \t te_loss 0.79 \t te_acc 0.916666666667\n",
      "epoch 16000: \t tr_loss 0.22 \t te_loss 0.77 \t te_acc 0.903703703704\n",
      "epoch 17000: \t tr_loss 0.20 \t te_loss 0.74 \t te_acc 0.92037037037\n",
      "epoch 18000: \t tr_loss 0.12 \t te_loss 0.69 \t te_acc 0.927777777778\n",
      "epoch 19000: \t tr_loss 0.01 \t te_loss 0.69 \t te_acc 0.924074074074\n",
      "epoch 20000: \t tr_loss 0.11 \t te_loss 0.67 \t te_acc 0.927777777778\n",
      "epoch 21000: \t tr_loss 0.09 \t te_loss 0.69 \t te_acc 0.927777777778\n",
      "epoch 22000: \t tr_loss 0.03 \t te_loss 0.69 \t te_acc 0.92037037037\n",
      "epoch 23000: \t tr_loss 0.21 \t te_loss 0.65 \t te_acc 0.914814814815\n",
      "epoch 24000: \t tr_loss 0.04 \t te_loss 0.69 \t te_acc 0.927777777778\n",
      "epoch 25000: \t tr_loss 0.10 \t te_loss 0.71 \t te_acc 0.914814814815\n",
      "epoch 26000: \t tr_loss 0.03 \t te_loss 0.64 \t te_acc 0.92962962963\n",
      "epoch 27000: \t tr_loss 0.06 \t te_loss 0.65 \t te_acc 0.924074074074\n",
      "epoch 28000: \t tr_loss 0.08 \t te_loss 0.60 \t te_acc 0.927777777778\n",
      "epoch 29000: \t tr_loss 0.03 \t te_loss 0.58 \t te_acc 0.925925925926\n",
      "epoch 30000: \t tr_loss 0.03 \t te_loss 0.65 \t te_acc 0.927777777778\n",
      "epoch 31000: \t tr_loss 0.08 \t te_loss 0.64 \t te_acc 0.92962962963\n",
      "epoch 32000: \t tr_loss 0.04 \t te_loss 0.62 \t te_acc 0.931481481481\n",
      "epoch 33000: \t tr_loss 0.01 \t te_loss 0.58 \t te_acc 0.931481481481\n",
      "epoch 34000: \t tr_loss 0.00 \t te_loss 0.65 \t te_acc 0.92962962963\n",
      "epoch 35000: \t tr_loss 0.02 \t te_loss 0.59 \t te_acc 0.925925925926\n",
      "epoch 36000: \t tr_loss 0.02 \t te_loss 0.58 \t te_acc 0.924074074074\n",
      "epoch 37000: \t tr_loss 0.00 \t te_loss 0.59 \t te_acc 0.924074074074\n",
      "epoch 38000: \t tr_loss 0.02 \t te_loss 0.60 \t te_acc 0.925925925926\n",
      "epoch 39000: \t tr_loss 0.02 \t te_loss 0.58 \t te_acc 0.925925925926\n",
      "epoch 40000: \t tr_loss 0.01 \t te_loss 0.58 \t te_acc 0.931481481481\n",
      "epoch 41000: \t tr_loss 0.04 \t te_loss 0.58 \t te_acc 0.927777777778\n",
      "epoch 42000: \t tr_loss 0.00 \t te_loss 0.56 \t te_acc 0.927777777778\n",
      "epoch 43000: \t tr_loss 0.02 \t te_loss 0.59 \t te_acc 0.924074074074\n",
      "epoch 44000: \t tr_loss 0.01 \t te_loss 0.56 \t te_acc 0.925925925926\n",
      "epoch 45000: \t tr_loss 0.03 \t te_loss 0.56 \t te_acc 0.931481481481\n",
      "epoch 46000: \t tr_loss 0.01 \t te_loss 0.57 \t te_acc 0.931481481481\n",
      "epoch 47000: \t tr_loss 0.00 \t te_loss 0.57 \t te_acc 0.927777777778\n",
      "epoch 48000: \t tr_loss 0.02 \t te_loss 0.57 \t te_acc 0.922222222222\n",
      "epoch 49000: \t tr_loss 0.01 \t te_loss 0.57 \t te_acc 0.92962962963\n"
     ]
    }
   ],
   "source": [
    "W1, b1 = np.random.random((64, 100)), np.random.random(100)\n",
    "W2, b2 = np.random.random((100, 10)), np.random.random(10)\n",
    "\n",
    "lr = 1e-4\n",
    "\n",
    "for i in range(50000):\n",
    "    batch_index = np.random.randint(0, X_train.shape[0], 100)\n",
    "    batch_X, batch_y = X_train[batch_index], y_train[batch_index]\n",
    "    \n",
    "    # ------------ Train ----------------- \n",
    "    # Forward Pass\n",
    "    out1, cache1 = affine_forward(batch_X, W1, b1) # Dense Layer\n",
    "    out2, cache2 = relu_forward(out1)              # ReLu Layer\n",
    "    out3, cache3 = affine_forward(out2,    W2, b2) # Dense Layer \n",
    "    tr_loss, dx = softmax_loss(out3, batch_y)      # Loss Layer \n",
    "    \n",
    "    # Backward Pass\n",
    "    dx, dW2, db2 = affine_backward(dx, cache3)\n",
    "    dx = relu_backward(dx, cache2)\n",
    "    dx, dW1, db1 = affine_backward(dx, cache1)\n",
    "    \n",
    "    # Updates\n",
    "    W2 -= lr * dW2\n",
    "    b2 -= lr * db2\n",
    "    W1 -= lr * dW1\n",
    "    b1 -= lr * db1\n",
    "    \n",
    "    # ------------ Test ----------------- \n",
    "    # Forward Pass\n",
    "    out1, cache1 = affine_forward(X_test, W1, b1) # Dense Layer\n",
    "    out2, cache2 = relu_forward(out1)              # ReLu Layer\n",
    "    out3, cache3 = affine_forward(out2,    W2, b2) # Dense Layer \n",
    "    te_loss, dx = softmax_loss(out3, y_test)         # Loss Layer\n",
    "    \n",
    "    # Predict\n",
    "    probs = np.exp(out3 - np.max(out3, axis=1, keepdims=True))\n",
    "    probs /= np.sum(probs, axis=1, keepdims=True)\n",
    "    y_pred = np.argmax(probs, axis=1)\n",
    "    \n",
    "    if i % 1000 == 0:\n",
    "        print 'epoch %s:' % i, \n",
    "        print '\\t tr_loss %.2f' % tr_loss,\n",
    "        print '\\t te_loss %.2f' % te_loss,\n",
    "        print '\\t te_acc %s' % accuracy_score(y_pred, y_test)"
   ]
  },
  {
   "cell_type": "markdown",
   "metadata": {},
   "source": [
    "<h2 align=\"center\">What is the challenge? </h2>\n",
    "\n",
    "You will see in Assignment 1:\n",
    "- more layers and architectures (Dropout, Convolution, Pooling)\n",
    "- optimization (Momentum, Adam)\n",
    "- weight initialization \n",
    "- data augmentation \n",
    "- ...\n",
    "\n",
    "<img src=\"img/rw.png\" width=\"900\">"
   ]
  }
 ],
 "metadata": {
  "anaconda-cloud": {},
  "kernelspec": {
   "display_name": "Python [default]",
   "language": "python",
   "name": "python2"
  },
  "language_info": {
   "codemirror_mode": {
    "name": "ipython",
    "version": 2
   },
   "file_extension": ".py",
   "mimetype": "text/x-python",
   "name": "python",
   "nbconvert_exporter": "python",
   "pygments_lexer": "ipython2",
   "version": "2.7.12"
  }
 },
 "nbformat": 4,
 "nbformat_minor": 2
}
