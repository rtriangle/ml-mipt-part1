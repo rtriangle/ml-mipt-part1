{
 "cells": [
  {
   "cell_type": "markdown",
   "metadata": {},
   "source": [
    "### 2.2"
   ]
  },
  {
   "cell_type": "markdown",
   "metadata": {},
   "source": [
    "$$a(x)=\\frac{1}{k}\\sum_{i=1}^k a_i(x)$$\n",
    "\n",
    "$$E_{X,Y,x,y} (a(x)) = \\frac{1}{k} kE_{X,Y,x,y} (a_1(x)) = E_{X,Y,x,y} (a_1(x))$$то есть $bias$ не изменится\n",
    "$$Var_{X,Y,x,y}(a(x)^2) = \\frac{1}{k^2}Var_{X,Y,x,y}(\\sum_{i,j=1}^k a_i(x)a_j(x))=\\frac{1}{k}Var_{X,Y,x,y}(a_1(x)) + \\frac{1}{k^2} \\sum_{i \\neq j}cov(a_i(x),a_j(x))$$\n",
    "\n",
    "если коэффициент корреляции одинаков для всех пар $(a_i, a_j)$ и равен r, то\n",
    "\n",
    "$$\\frac{1}{k}Var_{X,Y,x,y}(a_1(x)) + \\frac{1}{k^2}\\sum_{i \\neq j}cov(a_i(x),a_j(x)) = \\frac{1}{k}Var_{X,Y,x,y}(a_1(x)) + \\frac{1}{k^2} \\sum_{i \\neq j} r Var_{X,Y,x,y}(a_1(x)) = \\left( \\frac{1}{k} + \\frac{r(k-1)}{k}\\right )Var_{X,Y,x,y}(a_1(x))$$\n",
    "\n",
    "Таким образом, $variance$ будет тем ниже, что менее коррелированы составляющие."
   ]
  },
  {
   "cell_type": "markdown",
   "metadata": {},
   "source": [
    "### 2.3"
   ]
  },
  {
   "cell_type": "markdown",
   "metadata": {},
   "source": [
    "$E\\xi_1 = a \\Longrightarrow E\\xi_1^2 = \\sigma^2 + a^2$.\n",
    "\n",
    "$$D\\overline{\\xi} = \\frac{1}{M^2}D(\\xi_1 + ... + \\xi_M) = \\frac{1}{M^2}E(\\xi_1 + ... + \\xi_M)^2 - a^2.$$\n",
    "$$E(\\xi_1 + ... + \\xi_M)^2 = M(\\sigma^2 + a^2) + \\sum_{i \\neq j}^ME\\xi_i\\xi_j$$\n",
    "Знаем, что $E\\xi_i\\xi_j = \\rho\\sigma^2 + a^2$\n",
    "\n",
    "Тогда $$E(\\xi_1 + ... + \\xi_M)^2 = M(\\sigma^2 + a^2) + M(M-1)(\\rho\\sigma^2 + a^2) = M^2(\\rho\\sigma^2 + a^2) + M\\sigma^2(1-\\rho) \\Longrightarrow D\\overline{\\xi} = \\rho\\sigma^2 + a^2 + \\frac{1}{M}\\sigma^2(1-\\rho) - a^2 = $$ $$\\sigma^2\\rho + \\frac{1}{M}\\sigma^2(1-\\rho)$$"
   ]
  },
  {
   "cell_type": "markdown",
   "metadata": {},
   "source": [
    "### 3.1"
   ]
  },
  {
   "cell_type": "markdown",
   "metadata": {},
   "source": [
    "В sample submission np.mean(y) от всех y в train.tsv"
   ]
  }
 ],
 "metadata": {
  "kernelspec": {
   "display_name": "Python [conda root]",
   "language": "python",
   "name": "conda-root-py"
  },
  "language_info": {
   "codemirror_mode": {
    "name": "ipython",
    "version": 3
   },
   "file_extension": ".py",
   "mimetype": "text/x-python",
   "name": "python",
   "nbconvert_exporter": "python",
   "pygments_lexer": "ipython3",
   "version": "3.5.2"
  }
 },
 "nbformat": 4,
 "nbformat_minor": 1
}
