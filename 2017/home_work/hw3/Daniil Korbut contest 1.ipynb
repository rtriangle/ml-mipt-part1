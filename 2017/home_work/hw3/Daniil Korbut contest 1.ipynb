{
 "cells": [
  {
   "cell_type": "markdown",
   "metadata": {},
   "source": [
    "Сначала я работал в этом ноутбуке, немного перебирал парметры xgboost, он давал ошибку около 30 в leaderboard. Я не разобрался, почему у меня не работал grid_search и cross_val_score, поэтому делал что-то своё. \n",
    "После этого я стал подгонять параметры у RandomForestRegressor, уже небольшая подгонка дала качество 24.8 без какого-либо преобразования датасета.\n",
    "Далее мне было удобнее перейти в ноутбук \"Daniil Korbut contest 2\", где я пробовал преобразовывать датасет (продолжение описания содержится там)."
   ]
  },
  {
   "cell_type": "code",
   "execution_count": 63,
   "metadata": {
    "collapsed": false
   },
   "outputs": [],
   "source": [
    "import pandas as pd\n",
    "import numpy as np\n",
    "from collections import Counter\n",
    "from scipy.stats import pearsonr, spearmanr\n",
    "from sklearn.ensemble import GradientBoostingRegressor\n",
    "from sklearn.ensemble import RandomForestRegressor\n",
    "from sklearn import cross_validation, grid_search\n",
    "from sklearn.cross_validation import StratifiedShuffleSplit\n",
    "import xgboost\n",
    "import matplotlib.pyplot as plt\n",
    "import seaborn as sns\n",
    "from sklearn.utils import shuffle\n",
    "import warnings\n",
    "warnings.filterwarnings('ignore')\n",
    "%matplotlib inline"
   ]
  },
  {
   "cell_type": "code",
   "execution_count": 33,
   "metadata": {
    "collapsed": true
   },
   "outputs": [],
   "source": [
    "train = pd.read_csv(\"train.tsv\")\n",
    "test = pd.read_csv(\"test.tsv\")\n",
    "sample_submission = pd.read_csv(\"sample_submission.tsv\")"
   ]
  },
  {
   "cell_type": "code",
   "execution_count": 34,
   "metadata": {
    "collapsed": true
   },
   "outputs": [],
   "source": [
    "train = shuffle(train)"
   ]
  },
  {
   "cell_type": "code",
   "execution_count": 35,
   "metadata": {
    "collapsed": false
   },
   "outputs": [
    {
     "name": "stdout",
     "output_type": "stream",
     "text": [
      "(72457, 66)\n"
     ]
    },
    {
     "name": "stderr",
     "output_type": "stream",
     "text": [
      "/Users/daniilkorbut/anaconda/lib/python3.5/site-packages/ipykernel/__main__.py:1: FutureWarning: sort(columns=....) is deprecated, use sort_values(by=.....)\n",
      "  if __name__ == '__main__':\n"
     ]
    },
    {
     "data": {
      "text/html": [
       "<div>\n",
       "<table border=\"1\" class=\"dataframe\">\n",
       "  <thead>\n",
       "    <tr style=\"text-align: right;\">\n",
       "      <th></th>\n",
       "      <th>Num</th>\n",
       "      <th>y</th>\n",
       "      <th>year</th>\n",
       "      <th>week</th>\n",
       "      <th>shift</th>\n",
       "      <th>item_id</th>\n",
       "      <th>f1</th>\n",
       "      <th>f2</th>\n",
       "      <th>f3</th>\n",
       "      <th>f4</th>\n",
       "      <th>...</th>\n",
       "      <th>f51</th>\n",
       "      <th>f52</th>\n",
       "      <th>f53</th>\n",
       "      <th>f54</th>\n",
       "      <th>f55</th>\n",
       "      <th>f56</th>\n",
       "      <th>f57</th>\n",
       "      <th>f58</th>\n",
       "      <th>f59</th>\n",
       "      <th>f60</th>\n",
       "    </tr>\n",
       "  </thead>\n",
       "  <tbody>\n",
       "    <tr>\n",
       "      <th>150</th>\n",
       "      <td>150</td>\n",
       "      <td>340138</td>\n",
       "      <td>2012</td>\n",
       "      <td>52</td>\n",
       "      <td>1</td>\n",
       "      <td>20427028</td>\n",
       "      <td>9700.0</td>\n",
       "      <td>92038.0</td>\n",
       "      <td>111363.0</td>\n",
       "      <td>146522.0</td>\n",
       "      <td>...</td>\n",
       "      <td>93799.0</td>\n",
       "      <td>113945.0</td>\n",
       "      <td>156656.0</td>\n",
       "      <td>69913.0</td>\n",
       "      <td>96291.0</td>\n",
       "      <td>112953.0</td>\n",
       "      <td>164259.0</td>\n",
       "      <td>88789.0</td>\n",
       "      <td>108817.0</td>\n",
       "      <td>110228.0</td>\n",
       "    </tr>\n",
       "    <tr>\n",
       "      <th>841</th>\n",
       "      <td>3613</td>\n",
       "      <td>110776</td>\n",
       "      <td>2013</td>\n",
       "      <td>1</td>\n",
       "      <td>1</td>\n",
       "      <td>20427028</td>\n",
       "      <td>92038.0</td>\n",
       "      <td>111363.0</td>\n",
       "      <td>146522.0</td>\n",
       "      <td>174408.0</td>\n",
       "      <td>...</td>\n",
       "      <td>113945.0</td>\n",
       "      <td>156656.0</td>\n",
       "      <td>69913.0</td>\n",
       "      <td>96291.0</td>\n",
       "      <td>112953.0</td>\n",
       "      <td>164259.0</td>\n",
       "      <td>88789.0</td>\n",
       "      <td>108817.0</td>\n",
       "      <td>110228.0</td>\n",
       "      <td>211266.0</td>\n",
       "    </tr>\n",
       "    <tr>\n",
       "      <th>380</th>\n",
       "      <td>380</td>\n",
       "      <td>110776</td>\n",
       "      <td>2013</td>\n",
       "      <td>1</td>\n",
       "      <td>2</td>\n",
       "      <td>20427028</td>\n",
       "      <td>9700.0</td>\n",
       "      <td>92038.0</td>\n",
       "      <td>111363.0</td>\n",
       "      <td>146522.0</td>\n",
       "      <td>...</td>\n",
       "      <td>93799.0</td>\n",
       "      <td>113945.0</td>\n",
       "      <td>156656.0</td>\n",
       "      <td>69913.0</td>\n",
       "      <td>96291.0</td>\n",
       "      <td>112953.0</td>\n",
       "      <td>164259.0</td>\n",
       "      <td>88789.0</td>\n",
       "      <td>108817.0</td>\n",
       "      <td>110228.0</td>\n",
       "    </tr>\n",
       "    <tr>\n",
       "      <th>1536</th>\n",
       "      <td>7079</td>\n",
       "      <td>70915</td>\n",
       "      <td>2013</td>\n",
       "      <td>2</td>\n",
       "      <td>1</td>\n",
       "      <td>20427028</td>\n",
       "      <td>111363.0</td>\n",
       "      <td>146522.0</td>\n",
       "      <td>174408.0</td>\n",
       "      <td>111337.0</td>\n",
       "      <td>...</td>\n",
       "      <td>156656.0</td>\n",
       "      <td>69913.0</td>\n",
       "      <td>96291.0</td>\n",
       "      <td>112953.0</td>\n",
       "      <td>164259.0</td>\n",
       "      <td>88789.0</td>\n",
       "      <td>108817.0</td>\n",
       "      <td>110228.0</td>\n",
       "      <td>211266.0</td>\n",
       "      <td>68805.0</td>\n",
       "    </tr>\n",
       "    <tr>\n",
       "      <th>1072</th>\n",
       "      <td>3844</td>\n",
       "      <td>70915</td>\n",
       "      <td>2013</td>\n",
       "      <td>2</td>\n",
       "      <td>2</td>\n",
       "      <td>20427028</td>\n",
       "      <td>92038.0</td>\n",
       "      <td>111363.0</td>\n",
       "      <td>146522.0</td>\n",
       "      <td>174408.0</td>\n",
       "      <td>...</td>\n",
       "      <td>113945.0</td>\n",
       "      <td>156656.0</td>\n",
       "      <td>69913.0</td>\n",
       "      <td>96291.0</td>\n",
       "      <td>112953.0</td>\n",
       "      <td>164259.0</td>\n",
       "      <td>88789.0</td>\n",
       "      <td>108817.0</td>\n",
       "      <td>110228.0</td>\n",
       "      <td>211266.0</td>\n",
       "    </tr>\n",
       "  </tbody>\n",
       "</table>\n",
       "<p>5 rows × 66 columns</p>\n",
       "</div>"
      ],
      "text/plain": [
       "       Num       y  year  week  shift   item_id        f1        f2        f3  \\\n",
       "150    150  340138  2012    52      1  20427028    9700.0   92038.0  111363.0   \n",
       "841   3613  110776  2013     1      1  20427028   92038.0  111363.0  146522.0   \n",
       "380    380  110776  2013     1      2  20427028    9700.0   92038.0  111363.0   \n",
       "1536  7079   70915  2013     2      1  20427028  111363.0  146522.0  174408.0   \n",
       "1072  3844   70915  2013     2      2  20427028   92038.0  111363.0  146522.0   \n",
       "\n",
       "            f4    ...          f51       f52       f53       f54       f55  \\\n",
       "150   146522.0    ...      93799.0  113945.0  156656.0   69913.0   96291.0   \n",
       "841   174408.0    ...     113945.0  156656.0   69913.0   96291.0  112953.0   \n",
       "380   146522.0    ...      93799.0  113945.0  156656.0   69913.0   96291.0   \n",
       "1536  111337.0    ...     156656.0   69913.0   96291.0  112953.0  164259.0   \n",
       "1072  174408.0    ...     113945.0  156656.0   69913.0   96291.0  112953.0   \n",
       "\n",
       "           f56       f57       f58       f59       f60  \n",
       "150   112953.0  164259.0   88789.0  108817.0  110228.0  \n",
       "841   164259.0   88789.0  108817.0  110228.0  211266.0  \n",
       "380   112953.0  164259.0   88789.0  108817.0  110228.0  \n",
       "1536   88789.0  108817.0  110228.0  211266.0   68805.0  \n",
       "1072  164259.0   88789.0  108817.0  110228.0  211266.0  \n",
       "\n",
       "[5 rows x 66 columns]"
      ]
     },
     "execution_count": 35,
     "metadata": {},
     "output_type": "execute_result"
    }
   ],
   "source": [
    "train = train.sort(['item_id', 'year', 'week', 'shift'])\n",
    "print (train.shape)\n",
    "train.head()"
   ]
  },
  {
   "cell_type": "code",
   "execution_count": 36,
   "metadata": {
    "collapsed": false
   },
   "outputs": [],
   "source": [
    "y = np.array(train[\"y\"])"
   ]
  },
  {
   "cell_type": "code",
   "execution_count": 37,
   "metadata": {
    "collapsed": false
   },
   "outputs": [
    {
     "name": "stdout",
     "output_type": "stream",
     "text": [
      "(321, 66)\n"
     ]
    },
    {
     "data": {
      "text/html": [
       "<div>\n",
       "<table border=\"1\" class=\"dataframe\">\n",
       "  <thead>\n",
       "    <tr style=\"text-align: right;\">\n",
       "      <th></th>\n",
       "      <th>Num</th>\n",
       "      <th>y</th>\n",
       "      <th>year</th>\n",
       "      <th>week</th>\n",
       "      <th>shift</th>\n",
       "      <th>item_id</th>\n",
       "      <th>f1</th>\n",
       "      <th>f2</th>\n",
       "      <th>f3</th>\n",
       "      <th>f4</th>\n",
       "      <th>...</th>\n",
       "      <th>f51</th>\n",
       "      <th>f52</th>\n",
       "      <th>f53</th>\n",
       "      <th>f54</th>\n",
       "      <th>f55</th>\n",
       "      <th>f56</th>\n",
       "      <th>f57</th>\n",
       "      <th>f58</th>\n",
       "      <th>f59</th>\n",
       "      <th>f60</th>\n",
       "    </tr>\n",
       "  </thead>\n",
       "  <tbody>\n",
       "    <tr>\n",
       "      <th>150</th>\n",
       "      <td>150</td>\n",
       "      <td>340138</td>\n",
       "      <td>2012</td>\n",
       "      <td>52</td>\n",
       "      <td>1</td>\n",
       "      <td>20427028</td>\n",
       "      <td>9700.0</td>\n",
       "      <td>92038.0</td>\n",
       "      <td>111363.0</td>\n",
       "      <td>146522.0</td>\n",
       "      <td>...</td>\n",
       "      <td>93799.0</td>\n",
       "      <td>113945.0</td>\n",
       "      <td>156656.0</td>\n",
       "      <td>69913.0</td>\n",
       "      <td>96291.0</td>\n",
       "      <td>112953.0</td>\n",
       "      <td>164259.0</td>\n",
       "      <td>88789.0</td>\n",
       "      <td>108817.0</td>\n",
       "      <td>110228.0</td>\n",
       "    </tr>\n",
       "    <tr>\n",
       "      <th>841</th>\n",
       "      <td>3613</td>\n",
       "      <td>110776</td>\n",
       "      <td>2013</td>\n",
       "      <td>1</td>\n",
       "      <td>1</td>\n",
       "      <td>20427028</td>\n",
       "      <td>92038.0</td>\n",
       "      <td>111363.0</td>\n",
       "      <td>146522.0</td>\n",
       "      <td>174408.0</td>\n",
       "      <td>...</td>\n",
       "      <td>113945.0</td>\n",
       "      <td>156656.0</td>\n",
       "      <td>69913.0</td>\n",
       "      <td>96291.0</td>\n",
       "      <td>112953.0</td>\n",
       "      <td>164259.0</td>\n",
       "      <td>88789.0</td>\n",
       "      <td>108817.0</td>\n",
       "      <td>110228.0</td>\n",
       "      <td>211266.0</td>\n",
       "    </tr>\n",
       "    <tr>\n",
       "      <th>380</th>\n",
       "      <td>380</td>\n",
       "      <td>110776</td>\n",
       "      <td>2013</td>\n",
       "      <td>1</td>\n",
       "      <td>2</td>\n",
       "      <td>20427028</td>\n",
       "      <td>9700.0</td>\n",
       "      <td>92038.0</td>\n",
       "      <td>111363.0</td>\n",
       "      <td>146522.0</td>\n",
       "      <td>...</td>\n",
       "      <td>93799.0</td>\n",
       "      <td>113945.0</td>\n",
       "      <td>156656.0</td>\n",
       "      <td>69913.0</td>\n",
       "      <td>96291.0</td>\n",
       "      <td>112953.0</td>\n",
       "      <td>164259.0</td>\n",
       "      <td>88789.0</td>\n",
       "      <td>108817.0</td>\n",
       "      <td>110228.0</td>\n",
       "    </tr>\n",
       "    <tr>\n",
       "      <th>1536</th>\n",
       "      <td>7079</td>\n",
       "      <td>70915</td>\n",
       "      <td>2013</td>\n",
       "      <td>2</td>\n",
       "      <td>1</td>\n",
       "      <td>20427028</td>\n",
       "      <td>111363.0</td>\n",
       "      <td>146522.0</td>\n",
       "      <td>174408.0</td>\n",
       "      <td>111337.0</td>\n",
       "      <td>...</td>\n",
       "      <td>156656.0</td>\n",
       "      <td>69913.0</td>\n",
       "      <td>96291.0</td>\n",
       "      <td>112953.0</td>\n",
       "      <td>164259.0</td>\n",
       "      <td>88789.0</td>\n",
       "      <td>108817.0</td>\n",
       "      <td>110228.0</td>\n",
       "      <td>211266.0</td>\n",
       "      <td>68805.0</td>\n",
       "    </tr>\n",
       "    <tr>\n",
       "      <th>1072</th>\n",
       "      <td>3844</td>\n",
       "      <td>70915</td>\n",
       "      <td>2013</td>\n",
       "      <td>2</td>\n",
       "      <td>2</td>\n",
       "      <td>20427028</td>\n",
       "      <td>92038.0</td>\n",
       "      <td>111363.0</td>\n",
       "      <td>146522.0</td>\n",
       "      <td>174408.0</td>\n",
       "      <td>...</td>\n",
       "      <td>113945.0</td>\n",
       "      <td>156656.0</td>\n",
       "      <td>69913.0</td>\n",
       "      <td>96291.0</td>\n",
       "      <td>112953.0</td>\n",
       "      <td>164259.0</td>\n",
       "      <td>88789.0</td>\n",
       "      <td>108817.0</td>\n",
       "      <td>110228.0</td>\n",
       "      <td>211266.0</td>\n",
       "    </tr>\n",
       "    <tr>\n",
       "      <th>611</th>\n",
       "      <td>611</td>\n",
       "      <td>70915</td>\n",
       "      <td>2013</td>\n",
       "      <td>2</td>\n",
       "      <td>3</td>\n",
       "      <td>20427028</td>\n",
       "      <td>9700.0</td>\n",
       "      <td>92038.0</td>\n",
       "      <td>111363.0</td>\n",
       "      <td>146522.0</td>\n",
       "      <td>...</td>\n",
       "      <td>93799.0</td>\n",
       "      <td>113945.0</td>\n",
       "      <td>156656.0</td>\n",
       "      <td>69913.0</td>\n",
       "      <td>96291.0</td>\n",
       "      <td>112953.0</td>\n",
       "      <td>164259.0</td>\n",
       "      <td>88789.0</td>\n",
       "      <td>108817.0</td>\n",
       "      <td>110228.0</td>\n",
       "    </tr>\n",
       "    <tr>\n",
       "      <th>2240</th>\n",
       "      <td>10552</td>\n",
       "      <td>149741</td>\n",
       "      <td>2013</td>\n",
       "      <td>3</td>\n",
       "      <td>1</td>\n",
       "      <td>20427028</td>\n",
       "      <td>146522.0</td>\n",
       "      <td>174408.0</td>\n",
       "      <td>111337.0</td>\n",
       "      <td>124149.0</td>\n",
       "      <td>...</td>\n",
       "      <td>69913.0</td>\n",
       "      <td>96291.0</td>\n",
       "      <td>112953.0</td>\n",
       "      <td>164259.0</td>\n",
       "      <td>88789.0</td>\n",
       "      <td>108817.0</td>\n",
       "      <td>110228.0</td>\n",
       "      <td>211266.0</td>\n",
       "      <td>68805.0</td>\n",
       "      <td>44047.0</td>\n",
       "    </tr>\n",
       "    <tr>\n",
       "      <th>1780</th>\n",
       "      <td>7323</td>\n",
       "      <td>149741</td>\n",
       "      <td>2013</td>\n",
       "      <td>3</td>\n",
       "      <td>2</td>\n",
       "      <td>20427028</td>\n",
       "      <td>111363.0</td>\n",
       "      <td>146522.0</td>\n",
       "      <td>174408.0</td>\n",
       "      <td>111337.0</td>\n",
       "      <td>...</td>\n",
       "      <td>156656.0</td>\n",
       "      <td>69913.0</td>\n",
       "      <td>96291.0</td>\n",
       "      <td>112953.0</td>\n",
       "      <td>164259.0</td>\n",
       "      <td>88789.0</td>\n",
       "      <td>108817.0</td>\n",
       "      <td>110228.0</td>\n",
       "      <td>211266.0</td>\n",
       "      <td>68805.0</td>\n",
       "    </tr>\n",
       "    <tr>\n",
       "      <th>1316</th>\n",
       "      <td>4088</td>\n",
       "      <td>149741</td>\n",
       "      <td>2013</td>\n",
       "      <td>3</td>\n",
       "      <td>3</td>\n",
       "      <td>20427028</td>\n",
       "      <td>92038.0</td>\n",
       "      <td>111363.0</td>\n",
       "      <td>146522.0</td>\n",
       "      <td>174408.0</td>\n",
       "      <td>...</td>\n",
       "      <td>113945.0</td>\n",
       "      <td>156656.0</td>\n",
       "      <td>69913.0</td>\n",
       "      <td>96291.0</td>\n",
       "      <td>112953.0</td>\n",
       "      <td>164259.0</td>\n",
       "      <td>88789.0</td>\n",
       "      <td>108817.0</td>\n",
       "      <td>110228.0</td>\n",
       "      <td>211266.0</td>\n",
       "    </tr>\n",
       "    <tr>\n",
       "      <th>2919</th>\n",
       "      <td>13997</td>\n",
       "      <td>203508</td>\n",
       "      <td>2013</td>\n",
       "      <td>4</td>\n",
       "      <td>1</td>\n",
       "      <td>20427028</td>\n",
       "      <td>174408.0</td>\n",
       "      <td>111337.0</td>\n",
       "      <td>124149.0</td>\n",
       "      <td>119286.0</td>\n",
       "      <td>...</td>\n",
       "      <td>96291.0</td>\n",
       "      <td>112953.0</td>\n",
       "      <td>164259.0</td>\n",
       "      <td>88789.0</td>\n",
       "      <td>108817.0</td>\n",
       "      <td>110228.0</td>\n",
       "      <td>211266.0</td>\n",
       "      <td>68805.0</td>\n",
       "      <td>44047.0</td>\n",
       "      <td>93007.0</td>\n",
       "    </tr>\n",
       "  </tbody>\n",
       "</table>\n",
       "<p>10 rows × 66 columns</p>\n",
       "</div>"
      ],
      "text/plain": [
       "        Num       y  year  week  shift   item_id        f1        f2  \\\n",
       "150     150  340138  2012    52      1  20427028    9700.0   92038.0   \n",
       "841    3613  110776  2013     1      1  20427028   92038.0  111363.0   \n",
       "380     380  110776  2013     1      2  20427028    9700.0   92038.0   \n",
       "1536   7079   70915  2013     2      1  20427028  111363.0  146522.0   \n",
       "1072   3844   70915  2013     2      2  20427028   92038.0  111363.0   \n",
       "611     611   70915  2013     2      3  20427028    9700.0   92038.0   \n",
       "2240  10552  149741  2013     3      1  20427028  146522.0  174408.0   \n",
       "1780   7323  149741  2013     3      2  20427028  111363.0  146522.0   \n",
       "1316   4088  149741  2013     3      3  20427028   92038.0  111363.0   \n",
       "2919  13997  203508  2013     4      1  20427028  174408.0  111337.0   \n",
       "\n",
       "            f3        f4    ...          f51       f52       f53       f54  \\\n",
       "150   111363.0  146522.0    ...      93799.0  113945.0  156656.0   69913.0   \n",
       "841   146522.0  174408.0    ...     113945.0  156656.0   69913.0   96291.0   \n",
       "380   111363.0  146522.0    ...      93799.0  113945.0  156656.0   69913.0   \n",
       "1536  174408.0  111337.0    ...     156656.0   69913.0   96291.0  112953.0   \n",
       "1072  146522.0  174408.0    ...     113945.0  156656.0   69913.0   96291.0   \n",
       "611   111363.0  146522.0    ...      93799.0  113945.0  156656.0   69913.0   \n",
       "2240  111337.0  124149.0    ...      69913.0   96291.0  112953.0  164259.0   \n",
       "1780  174408.0  111337.0    ...     156656.0   69913.0   96291.0  112953.0   \n",
       "1316  146522.0  174408.0    ...     113945.0  156656.0   69913.0   96291.0   \n",
       "2919  124149.0  119286.0    ...      96291.0  112953.0  164259.0   88789.0   \n",
       "\n",
       "           f55       f56       f57       f58       f59       f60  \n",
       "150    96291.0  112953.0  164259.0   88789.0  108817.0  110228.0  \n",
       "841   112953.0  164259.0   88789.0  108817.0  110228.0  211266.0  \n",
       "380    96291.0  112953.0  164259.0   88789.0  108817.0  110228.0  \n",
       "1536  164259.0   88789.0  108817.0  110228.0  211266.0   68805.0  \n",
       "1072  112953.0  164259.0   88789.0  108817.0  110228.0  211266.0  \n",
       "611    96291.0  112953.0  164259.0   88789.0  108817.0  110228.0  \n",
       "2240   88789.0  108817.0  110228.0  211266.0   68805.0   44047.0  \n",
       "1780  164259.0   88789.0  108817.0  110228.0  211266.0   68805.0  \n",
       "1316  112953.0  164259.0   88789.0  108817.0  110228.0  211266.0  \n",
       "2919  108817.0  110228.0  211266.0   68805.0   44047.0   93007.0  \n",
       "\n",
       "[10 rows x 66 columns]"
      ]
     },
     "execution_count": 37,
     "metadata": {},
     "output_type": "execute_result"
    }
   ],
   "source": [
    "example = train[train[\"item_id\"] == 20427028]\n",
    "print (example.shape)\n",
    "example.head(10)"
   ]
  },
  {
   "cell_type": "code",
   "execution_count": 66,
   "metadata": {
    "collapsed": false
   },
   "outputs": [
    {
     "data": {
      "image/png": "[encoded data removed]",
      "text/plain": [
       "<matplotlib.figure.Figure at 0x117987588>"
      ]
     },
     "metadata": {},
     "output_type": "display_data"
    }
   ],
   "source": [
    "plt.figure(figsize=(12,8))\n",
    "plt.plot([i for i in range(example.shape[0])], example['y'], color = \"orange\")\n",
    "plt.plot([i for i in range(example.shape[0])], example['f1'], color = \"green\")\n",
    "plt.plot([i for i in range(example.shape[0])], example['f2'], color = \"blue\")\n",
    "plt.plot([i for i in range(example.shape[0])], example['f60'], color = \"red\")\n",
    "plt.show()"
   ]
  },
  {
   "cell_type": "code",
   "execution_count": 39,
   "metadata": {
    "collapsed": true
   },
   "outputs": [],
   "source": [
    "train1 = train.head(50000)\n",
    "train2 = train.tail(train.shape[0]-50000)"
   ]
  },
  {
   "cell_type": "code",
   "execution_count": 48,
   "metadata": {
    "collapsed": false
   },
   "outputs": [],
   "source": [
    "def smape(y_pred, y_true):\n",
    "    return (100 / y_pred.shape[0]) * np.sum(np.abs(y_pred - y_true) / ((np.abs(y_pred) + np.abs(y_true)) / 2))"
   ]
  },
  {
   "cell_type": "code",
   "execution_count": 41,
   "metadata": {
    "collapsed": true
   },
   "outputs": [],
   "source": [
    "a = np.array([2,2,3])\n",
    "b = np.array([1,2,3])"
   ]
  },
  {
   "cell_type": "code",
   "execution_count": 42,
   "metadata": {
    "collapsed": false
   },
   "outputs": [
    {
     "data": {
      "text/plain": [
       "22.222222222222221"
      ]
     },
     "execution_count": 42,
     "metadata": {},
     "output_type": "execute_result"
    }
   ],
   "source": [
    "smape(_,a,b)"
   ]
  },
  {
   "cell_type": "code",
   "execution_count": 43,
   "metadata": {
    "collapsed": true
   },
   "outputs": [],
   "source": [
    "X1 = train1.drop(['Num','y'], axis=1)\n",
    "y1 = train1['y']\n",
    "X2 = train2.drop(['Num','y'], axis=1)\n",
    "y2 = train2['y']\n",
    "y1 = np.array(y1)\n",
    "y2 = np.array(y2)"
   ]
  },
  {
   "cell_type": "code",
   "execution_count": 44,
   "metadata": {
    "collapsed": false
   },
   "outputs": [],
   "source": [
    "model = RandomForestRegressor(n_estimators=30, min_samples_leaf=1, min_samples_split=2)"
   ]
  },
  {
   "cell_type": "code",
   "execution_count": 53,
   "metadata": {
    "collapsed": false,
    "scrolled": true
   },
   "outputs": [
    {
     "ename": "KeyboardInterrupt",
     "evalue": "",
     "output_type": "error",
     "traceback": [
      "\u001b[0;31m---------------------------------------------------------------------------\u001b[0m",
      "\u001b[0;31mKeyboardInterrupt\u001b[0m                         Traceback (most recent call last)",
      "\u001b[0;32m<ipython-input-53-090b4f142896>\u001b[0m in \u001b[0;36m<module>\u001b[0;34m()\u001b[0m\n\u001b[1;32m     15\u001b[0m                 \u001b[0my2\u001b[0m \u001b[0;34m=\u001b[0m \u001b[0mnp\u001b[0m\u001b[0;34m.\u001b[0m\u001b[0marray\u001b[0m\u001b[0;34m(\u001b[0m\u001b[0my2\u001b[0m\u001b[0;34m)\u001b[0m\u001b[0;34m\u001b[0m\u001b[0m\n\u001b[1;32m     16\u001b[0m                 \u001b[0mmodel\u001b[0m \u001b[0;34m=\u001b[0m \u001b[0mRandomForestRegressor\u001b[0m\u001b[0;34m(\u001b[0m\u001b[0mn_estimators\u001b[0m\u001b[0;34m=\u001b[0m\u001b[0mn_e\u001b[0m\u001b[0;34m,\u001b[0m \u001b[0mmin_samples_leaf\u001b[0m\u001b[0;34m=\u001b[0m\u001b[0mm_s_l\u001b[0m\u001b[0;34m,\u001b[0m \u001b[0mmin_samples_split\u001b[0m\u001b[0;34m=\u001b[0m\u001b[0mm_s_s\u001b[0m\u001b[0;34m)\u001b[0m\u001b[0;34m\u001b[0m\u001b[0m\n\u001b[0;32m---> 17\u001b[0;31m                 \u001b[0mmodel\u001b[0m\u001b[0;34m.\u001b[0m\u001b[0mfit\u001b[0m\u001b[0;34m(\u001b[0m\u001b[0mX1\u001b[0m\u001b[0;34m,\u001b[0m \u001b[0my1\u001b[0m\u001b[0;34m)\u001b[0m\u001b[0;34m\u001b[0m\u001b[0m\n\u001b[0m\u001b[1;32m     18\u001b[0m                 \u001b[0mres\u001b[0m \u001b[0;34m=\u001b[0m \u001b[0mmodel\u001b[0m\u001b[0;34m.\u001b[0m\u001b[0mpredict\u001b[0m\u001b[0;34m(\u001b[0m\u001b[0mX2\u001b[0m\u001b[0;34m)\u001b[0m\u001b[0;34m\u001b[0m\u001b[0m\n\u001b[1;32m     19\u001b[0m                 \u001b[0mtmp\u001b[0m\u001b[0;34m.\u001b[0m\u001b[0mappend\u001b[0m\u001b[0;34m(\u001b[0m\u001b[0msmape\u001b[0m\u001b[0;34m(\u001b[0m\u001b[0mres\u001b[0m\u001b[0;34m,\u001b[0m \u001b[0my2\u001b[0m\u001b[0;34m)\u001b[0m\u001b[0;34m)\u001b[0m\u001b[0;34m\u001b[0m\u001b[0m\n",
      "\u001b[0;32m/Users/daniilkorbut/anaconda/lib/python3.5/site-packages/sklearn/ensemble/forest.py\u001b[0m in \u001b[0;36mfit\u001b[0;34m(self, X, y, sample_weight)\u001b[0m\n\u001b[1;32m    324\u001b[0m                     \u001b[0mt\u001b[0m\u001b[0;34m,\u001b[0m \u001b[0mself\u001b[0m\u001b[0;34m,\u001b[0m \u001b[0mX\u001b[0m\u001b[0;34m,\u001b[0m \u001b[0my\u001b[0m\u001b[0;34m,\u001b[0m \u001b[0msample_weight\u001b[0m\u001b[0;34m,\u001b[0m \u001b[0mi\u001b[0m\u001b[0;34m,\u001b[0m \u001b[0mlen\u001b[0m\u001b[0;34m(\u001b[0m\u001b[0mtrees\u001b[0m\u001b[0;34m)\u001b[0m\u001b[0;34m,\u001b[0m\u001b[0;34m\u001b[0m\u001b[0m\n\u001b[1;32m    325\u001b[0m                     verbose=self.verbose, class_weight=self.class_weight)\n\u001b[0;32m--> 326\u001b[0;31m                 for i, t in enumerate(trees))\n\u001b[0m\u001b[1;32m    327\u001b[0m \u001b[0;34m\u001b[0m\u001b[0m\n\u001b[1;32m    328\u001b[0m             \u001b[0;31m# Collect newly grown trees\u001b[0m\u001b[0;34m\u001b[0m\u001b[0;34m\u001b[0m\u001b[0m\n",
      "\u001b[0;32m/Users/daniilkorbut/anaconda/lib/python3.5/site-packages/sklearn/externals/joblib/parallel.py\u001b[0m in \u001b[0;36m__call__\u001b[0;34m(self, iterable)\u001b[0m\n\u001b[1;32m    756\u001b[0m             \u001b[0;31m# was dispatched. In particular this covers the edge\u001b[0m\u001b[0;34m\u001b[0m\u001b[0;34m\u001b[0m\u001b[0m\n\u001b[1;32m    757\u001b[0m             \u001b[0;31m# case of Parallel used with an exhausted iterator.\u001b[0m\u001b[0;34m\u001b[0m\u001b[0;34m\u001b[0m\u001b[0m\n\u001b[0;32m--> 758\u001b[0;31m             \u001b[0;32mwhile\u001b[0m \u001b[0mself\u001b[0m\u001b[0;34m.\u001b[0m\u001b[0mdispatch_one_batch\u001b[0m\u001b[0;34m(\u001b[0m\u001b[0miterator\u001b[0m\u001b[0;34m)\u001b[0m\u001b[0;34m:\u001b[0m\u001b[0;34m\u001b[0m\u001b[0m\n\u001b[0m\u001b[1;32m    759\u001b[0m                 \u001b[0mself\u001b[0m\u001b[0;34m.\u001b[0m\u001b[0m_iterating\u001b[0m \u001b[0;34m=\u001b[0m \u001b[0;32mTrue\u001b[0m\u001b[0;34m\u001b[0m\u001b[0m\n\u001b[1;32m    760\u001b[0m             \u001b[0;32melse\u001b[0m\u001b[0;34m:\u001b[0m\u001b[0;34m\u001b[0m\u001b[0m\n",
      "\u001b[0;32m/Users/daniilkorbut/anaconda/lib/python3.5/site-packages/sklearn/externals/joblib/parallel.py\u001b[0m in \u001b[0;36mdispatch_one_batch\u001b[0;34m(self, iterator)\u001b[0m\n\u001b[1;32m    606\u001b[0m                 \u001b[0;32mreturn\u001b[0m \u001b[0;32mFalse\u001b[0m\u001b[0;34m\u001b[0m\u001b[0m\n\u001b[1;32m    607\u001b[0m             \u001b[0;32melse\u001b[0m\u001b[0;34m:\u001b[0m\u001b[0;34m\u001b[0m\u001b[0m\n\u001b[0;32m--> 608\u001b[0;31m                 \u001b[0mself\u001b[0m\u001b[0;34m.\u001b[0m\u001b[0m_dispatch\u001b[0m\u001b[0;34m(\u001b[0m\u001b[0mtasks\u001b[0m\u001b[0;34m)\u001b[0m\u001b[0;34m\u001b[0m\u001b[0m\n\u001b[0m\u001b[1;32m    609\u001b[0m                 \u001b[0;32mreturn\u001b[0m \u001b[0;32mTrue\u001b[0m\u001b[0;34m\u001b[0m\u001b[0m\n\u001b[1;32m    610\u001b[0m \u001b[0;34m\u001b[0m\u001b[0m\n",
      "\u001b[0;32m/Users/daniilkorbut/anaconda/lib/python3.5/site-packages/sklearn/externals/joblib/parallel.py\u001b[0m in \u001b[0;36m_dispatch\u001b[0;34m(self, batch)\u001b[0m\n\u001b[1;32m    569\u001b[0m         \u001b[0mdispatch_timestamp\u001b[0m \u001b[0;34m=\u001b[0m \u001b[0mtime\u001b[0m\u001b[0;34m.\u001b[0m\u001b[0mtime\u001b[0m\u001b[0;34m(\u001b[0m\u001b[0;34m)\u001b[0m\u001b[0;34m\u001b[0m\u001b[0m\n\u001b[1;32m    570\u001b[0m         \u001b[0mcb\u001b[0m \u001b[0;34m=\u001b[0m \u001b[0mBatchCompletionCallBack\u001b[0m\u001b[0;34m(\u001b[0m\u001b[0mdispatch_timestamp\u001b[0m\u001b[0;34m,\u001b[0m \u001b[0mlen\u001b[0m\u001b[0;34m(\u001b[0m\u001b[0mbatch\u001b[0m\u001b[0;34m)\u001b[0m\u001b[0;34m,\u001b[0m \u001b[0mself\u001b[0m\u001b[0;34m)\u001b[0m\u001b[0;34m\u001b[0m\u001b[0m\n\u001b[0;32m--> 571\u001b[0;31m         \u001b[0mjob\u001b[0m \u001b[0;34m=\u001b[0m \u001b[0mself\u001b[0m\u001b[0;34m.\u001b[0m\u001b[0m_backend\u001b[0m\u001b[0;34m.\u001b[0m\u001b[0mapply_async\u001b[0m\u001b[0;34m(\u001b[0m\u001b[0mbatch\u001b[0m\u001b[0;34m,\u001b[0m \u001b[0mcallback\u001b[0m\u001b[0;34m=\u001b[0m\u001b[0mcb\u001b[0m\u001b[0;34m)\u001b[0m\u001b[0;34m\u001b[0m\u001b[0m\n\u001b[0m\u001b[1;32m    572\u001b[0m         \u001b[0mself\u001b[0m\u001b[0;34m.\u001b[0m\u001b[0m_jobs\u001b[0m\u001b[0;34m.\u001b[0m\u001b[0mappend\u001b[0m\u001b[0;34m(\u001b[0m\u001b[0mjob\u001b[0m\u001b[0;34m)\u001b[0m\u001b[0;34m\u001b[0m\u001b[0m\n\u001b[1;32m    573\u001b[0m \u001b[0;34m\u001b[0m\u001b[0m\n",
      "\u001b[0;32m/Users/daniilkorbut/anaconda/lib/python3.5/site-packages/sklearn/externals/joblib/_parallel_backends.py\u001b[0m in \u001b[0;36mapply_async\u001b[0;34m(self, func, callback)\u001b[0m\n\u001b[1;32m    107\u001b[0m     \u001b[0;32mdef\u001b[0m \u001b[0mapply_async\u001b[0m\u001b[0;34m(\u001b[0m\u001b[0mself\u001b[0m\u001b[0;34m,\u001b[0m \u001b[0mfunc\u001b[0m\u001b[0;34m,\u001b[0m \u001b[0mcallback\u001b[0m\u001b[0;34m=\u001b[0m\u001b[0;32mNone\u001b[0m\u001b[0;34m)\u001b[0m\u001b[0;34m:\u001b[0m\u001b[0;34m\u001b[0m\u001b[0m\n\u001b[1;32m    108\u001b[0m         \u001b[0;34m\"\"\"Schedule a func to be run\"\"\"\u001b[0m\u001b[0;34m\u001b[0m\u001b[0m\n\u001b[0;32m--> 109\u001b[0;31m         \u001b[0mresult\u001b[0m \u001b[0;34m=\u001b[0m \u001b[0mImmediateResult\u001b[0m\u001b[0;34m(\u001b[0m\u001b[0mfunc\u001b[0m\u001b[0;34m)\u001b[0m\u001b[0;34m\u001b[0m\u001b[0m\n\u001b[0m\u001b[1;32m    110\u001b[0m         \u001b[0;32mif\u001b[0m \u001b[0mcallback\u001b[0m\u001b[0;34m:\u001b[0m\u001b[0;34m\u001b[0m\u001b[0m\n\u001b[1;32m    111\u001b[0m             \u001b[0mcallback\u001b[0m\u001b[0;34m(\u001b[0m\u001b[0mresult\u001b[0m\u001b[0;34m)\u001b[0m\u001b[0;34m\u001b[0m\u001b[0m\n",
      "\u001b[0;32m/Users/daniilkorbut/anaconda/lib/python3.5/site-packages/sklearn/externals/joblib/_parallel_backends.py\u001b[0m in \u001b[0;36m__init__\u001b[0;34m(self, batch)\u001b[0m\n\u001b[1;32m    324\u001b[0m         \u001b[0;31m# Don't delay the application, to avoid keeping the input\u001b[0m\u001b[0;34m\u001b[0m\u001b[0;34m\u001b[0m\u001b[0m\n\u001b[1;32m    325\u001b[0m         \u001b[0;31m# arguments in memory\u001b[0m\u001b[0;34m\u001b[0m\u001b[0;34m\u001b[0m\u001b[0m\n\u001b[0;32m--> 326\u001b[0;31m         \u001b[0mself\u001b[0m\u001b[0;34m.\u001b[0m\u001b[0mresults\u001b[0m \u001b[0;34m=\u001b[0m \u001b[0mbatch\u001b[0m\u001b[0;34m(\u001b[0m\u001b[0;34m)\u001b[0m\u001b[0;34m\u001b[0m\u001b[0m\n\u001b[0m\u001b[1;32m    327\u001b[0m \u001b[0;34m\u001b[0m\u001b[0m\n\u001b[1;32m    328\u001b[0m     \u001b[0;32mdef\u001b[0m \u001b[0mget\u001b[0m\u001b[0;34m(\u001b[0m\u001b[0mself\u001b[0m\u001b[0;34m)\u001b[0m\u001b[0;34m:\u001b[0m\u001b[0;34m\u001b[0m\u001b[0m\n",
      "\u001b[0;32m/Users/daniilkorbut/anaconda/lib/python3.5/site-packages/sklearn/externals/joblib/parallel.py\u001b[0m in \u001b[0;36m__call__\u001b[0;34m(self)\u001b[0m\n\u001b[1;32m    129\u001b[0m \u001b[0;34m\u001b[0m\u001b[0m\n\u001b[1;32m    130\u001b[0m     \u001b[0;32mdef\u001b[0m \u001b[0m__call__\u001b[0m\u001b[0;34m(\u001b[0m\u001b[0mself\u001b[0m\u001b[0;34m)\u001b[0m\u001b[0;34m:\u001b[0m\u001b[0;34m\u001b[0m\u001b[0m\n\u001b[0;32m--> 131\u001b[0;31m         \u001b[0;32mreturn\u001b[0m \u001b[0;34m[\u001b[0m\u001b[0mfunc\u001b[0m\u001b[0;34m(\u001b[0m\u001b[0;34m*\u001b[0m\u001b[0margs\u001b[0m\u001b[0;34m,\u001b[0m \u001b[0;34m**\u001b[0m\u001b[0mkwargs\u001b[0m\u001b[0;34m)\u001b[0m \u001b[0;32mfor\u001b[0m \u001b[0mfunc\u001b[0m\u001b[0;34m,\u001b[0m \u001b[0margs\u001b[0m\u001b[0;34m,\u001b[0m \u001b[0mkwargs\u001b[0m \u001b[0;32min\u001b[0m \u001b[0mself\u001b[0m\u001b[0;34m.\u001b[0m\u001b[0mitems\u001b[0m\u001b[0;34m]\u001b[0m\u001b[0;34m\u001b[0m\u001b[0m\n\u001b[0m\u001b[1;32m    132\u001b[0m \u001b[0;34m\u001b[0m\u001b[0m\n\u001b[1;32m    133\u001b[0m     \u001b[0;32mdef\u001b[0m \u001b[0m__len__\u001b[0m\u001b[0;34m(\u001b[0m\u001b[0mself\u001b[0m\u001b[0;34m)\u001b[0m\u001b[0;34m:\u001b[0m\u001b[0;34m\u001b[0m\u001b[0m\n",
      "\u001b[0;32m/Users/daniilkorbut/anaconda/lib/python3.5/site-packages/sklearn/externals/joblib/parallel.py\u001b[0m in \u001b[0;36m<listcomp>\u001b[0;34m(.0)\u001b[0m\n\u001b[1;32m    129\u001b[0m \u001b[0;34m\u001b[0m\u001b[0m\n\u001b[1;32m    130\u001b[0m     \u001b[0;32mdef\u001b[0m \u001b[0m__call__\u001b[0m\u001b[0;34m(\u001b[0m\u001b[0mself\u001b[0m\u001b[0;34m)\u001b[0m\u001b[0;34m:\u001b[0m\u001b[0;34m\u001b[0m\u001b[0m\n\u001b[0;32m--> 131\u001b[0;31m         \u001b[0;32mreturn\u001b[0m \u001b[0;34m[\u001b[0m\u001b[0mfunc\u001b[0m\u001b[0;34m(\u001b[0m\u001b[0;34m*\u001b[0m\u001b[0margs\u001b[0m\u001b[0;34m,\u001b[0m \u001b[0;34m**\u001b[0m\u001b[0mkwargs\u001b[0m\u001b[0;34m)\u001b[0m \u001b[0;32mfor\u001b[0m \u001b[0mfunc\u001b[0m\u001b[0;34m,\u001b[0m \u001b[0margs\u001b[0m\u001b[0;34m,\u001b[0m \u001b[0mkwargs\u001b[0m \u001b[0;32min\u001b[0m \u001b[0mself\u001b[0m\u001b[0;34m.\u001b[0m\u001b[0mitems\u001b[0m\u001b[0;34m]\u001b[0m\u001b[0;34m\u001b[0m\u001b[0m\n\u001b[0m\u001b[1;32m    132\u001b[0m \u001b[0;34m\u001b[0m\u001b[0m\n\u001b[1;32m    133\u001b[0m     \u001b[0;32mdef\u001b[0m \u001b[0m__len__\u001b[0m\u001b[0;34m(\u001b[0m\u001b[0mself\u001b[0m\u001b[0;34m)\u001b[0m\u001b[0;34m:\u001b[0m\u001b[0;34m\u001b[0m\u001b[0m\n",
      "\u001b[0;32m/Users/daniilkorbut/anaconda/lib/python3.5/site-packages/sklearn/ensemble/forest.py\u001b[0m in \u001b[0;36m_parallel_build_trees\u001b[0;34m(tree, forest, X, y, sample_weight, tree_idx, n_trees, verbose, class_weight)\u001b[0m\n\u001b[1;32m    118\u001b[0m             \u001b[0mcurr_sample_weight\u001b[0m \u001b[0;34m*=\u001b[0m \u001b[0mcompute_sample_weight\u001b[0m\u001b[0;34m(\u001b[0m\u001b[0;34m'balanced'\u001b[0m\u001b[0;34m,\u001b[0m \u001b[0my\u001b[0m\u001b[0;34m,\u001b[0m \u001b[0mindices\u001b[0m\u001b[0;34m)\u001b[0m\u001b[0;34m\u001b[0m\u001b[0m\n\u001b[1;32m    119\u001b[0m \u001b[0;34m\u001b[0m\u001b[0m\n\u001b[0;32m--> 120\u001b[0;31m         \u001b[0mtree\u001b[0m\u001b[0;34m.\u001b[0m\u001b[0mfit\u001b[0m\u001b[0;34m(\u001b[0m\u001b[0mX\u001b[0m\u001b[0;34m,\u001b[0m \u001b[0my\u001b[0m\u001b[0;34m,\u001b[0m \u001b[0msample_weight\u001b[0m\u001b[0;34m=\u001b[0m\u001b[0mcurr_sample_weight\u001b[0m\u001b[0;34m,\u001b[0m \u001b[0mcheck_input\u001b[0m\u001b[0;34m=\u001b[0m\u001b[0;32mFalse\u001b[0m\u001b[0;34m)\u001b[0m\u001b[0;34m\u001b[0m\u001b[0m\n\u001b[0m\u001b[1;32m    121\u001b[0m     \u001b[0;32melse\u001b[0m\u001b[0;34m:\u001b[0m\u001b[0;34m\u001b[0m\u001b[0m\n\u001b[1;32m    122\u001b[0m         \u001b[0mtree\u001b[0m\u001b[0;34m.\u001b[0m\u001b[0mfit\u001b[0m\u001b[0;34m(\u001b[0m\u001b[0mX\u001b[0m\u001b[0;34m,\u001b[0m \u001b[0my\u001b[0m\u001b[0;34m,\u001b[0m \u001b[0msample_weight\u001b[0m\u001b[0;34m=\u001b[0m\u001b[0msample_weight\u001b[0m\u001b[0;34m,\u001b[0m \u001b[0mcheck_input\u001b[0m\u001b[0;34m=\u001b[0m\u001b[0;32mFalse\u001b[0m\u001b[0;34m)\u001b[0m\u001b[0;34m\u001b[0m\u001b[0m\n",
      "\u001b[0;32m/Users/daniilkorbut/anaconda/lib/python3.5/site-packages/sklearn/tree/tree.py\u001b[0m in \u001b[0;36mfit\u001b[0;34m(self, X, y, sample_weight, check_input, X_idx_sorted)\u001b[0m\n\u001b[1;32m   1027\u001b[0m             \u001b[0msample_weight\u001b[0m\u001b[0;34m=\u001b[0m\u001b[0msample_weight\u001b[0m\u001b[0;34m,\u001b[0m\u001b[0;34m\u001b[0m\u001b[0m\n\u001b[1;32m   1028\u001b[0m             \u001b[0mcheck_input\u001b[0m\u001b[0;34m=\u001b[0m\u001b[0mcheck_input\u001b[0m\u001b[0;34m,\u001b[0m\u001b[0;34m\u001b[0m\u001b[0m\n\u001b[0;32m-> 1029\u001b[0;31m             X_idx_sorted=X_idx_sorted)\n\u001b[0m\u001b[1;32m   1030\u001b[0m         \u001b[0;32mreturn\u001b[0m \u001b[0mself\u001b[0m\u001b[0;34m\u001b[0m\u001b[0m\n\u001b[1;32m   1031\u001b[0m \u001b[0;34m\u001b[0m\u001b[0m\n",
      "\u001b[0;32m/Users/daniilkorbut/anaconda/lib/python3.5/site-packages/sklearn/tree/tree.py\u001b[0m in \u001b[0;36mfit\u001b[0;34m(self, X, y, sample_weight, check_input, X_idx_sorted)\u001b[0m\n\u001b[1;32m    348\u001b[0m                                            self.min_impurity_split)\n\u001b[1;32m    349\u001b[0m \u001b[0;34m\u001b[0m\u001b[0m\n\u001b[0;32m--> 350\u001b[0;31m         \u001b[0mbuilder\u001b[0m\u001b[0;34m.\u001b[0m\u001b[0mbuild\u001b[0m\u001b[0;34m(\u001b[0m\u001b[0mself\u001b[0m\u001b[0;34m.\u001b[0m\u001b[0mtree_\u001b[0m\u001b[0;34m,\u001b[0m \u001b[0mX\u001b[0m\u001b[0;34m,\u001b[0m \u001b[0my\u001b[0m\u001b[0;34m,\u001b[0m \u001b[0msample_weight\u001b[0m\u001b[0;34m,\u001b[0m \u001b[0mX_idx_sorted\u001b[0m\u001b[0;34m)\u001b[0m\u001b[0;34m\u001b[0m\u001b[0m\n\u001b[0m\u001b[1;32m    351\u001b[0m \u001b[0;34m\u001b[0m\u001b[0m\n\u001b[1;32m    352\u001b[0m         \u001b[0;32mif\u001b[0m \u001b[0mself\u001b[0m\u001b[0;34m.\u001b[0m\u001b[0mn_outputs_\u001b[0m \u001b[0;34m==\u001b[0m \u001b[0;36m1\u001b[0m\u001b[0;34m:\u001b[0m\u001b[0;34m\u001b[0m\u001b[0m\n",
      "\u001b[0;31mKeyboardInterrupt\u001b[0m: "
     ]
    }
   ],
   "source": [
    "results = []\n",
    "for n_e in [10, 20, 30, 40]:\n",
    "    for m_s_l in [1, 2, 3, 4, 5]:\n",
    "        for m_s_s in [2, 3, 4]:\n",
    "            tmp = []\n",
    "            for i in range(5):\n",
    "                train = shuffle(train)\n",
    "                train1 = train.head(50000)\n",
    "                train2 = train.tail(train.shape[0]-50000)\n",
    "                X1 = train1.drop(['Num','y'], axis=1)\n",
    "                y1 = train1['y']\n",
    "                X2 = train2.drop(['Num','y'], axis=1)\n",
    "                y2 = train2['y']\n",
    "                y1 = np.array(y1)\n",
    "                y2 = np.array(y2)\n",
    "                model = RandomForestRegressor(n_estimators=n_e, min_samples_leaf=m_s_l, min_samples_split=m_s_s)\n",
    "                model.fit(X1, y1)\n",
    "                res = model.predict(X2)\n",
    "                tmp.append(smape(res, y2))\n",
    "            results.append((np.mean(tmp), n_e, m_s_l, m_s_s))"
   ]
  },
  {
   "cell_type": "code",
   "execution_count": 54,
   "metadata": {
    "collapsed": false
   },
   "outputs": [
    {
     "data": {
      "text/plain": [
       "[(24.05787671713157, 10, 1, 2),\n",
       " (24.03015521977634, 10, 1, 3),\n",
       " (24.074953295561574, 10, 1, 4),\n",
       " (24.056031963441349, 10, 2, 2),\n",
       " (23.986166506338208, 10, 2, 3),\n",
       " (23.950650608971095, 10, 2, 4),\n",
       " (24.197675050271783, 10, 3, 2),\n",
       " (24.152235494549835, 10, 3, 3),\n",
       " (24.209165377072981, 10, 3, 4),\n",
       " (24.20283479676656, 10, 4, 2),\n",
       " (24.292255105571162, 10, 4, 3),\n",
       " (24.261426300966583, 10, 4, 4),\n",
       " (24.331822110364833, 10, 5, 2),\n",
       " (24.392153915597302, 10, 5, 3),\n",
       " (24.419393088383679, 10, 5, 4)]"
      ]
     },
     "execution_count": 54,
     "metadata": {},
     "output_type": "execute_result"
    }
   ],
   "source": [
    "results"
   ]
  },
  {
   "cell_type": "code",
   "execution_count": 55,
   "metadata": {
    "collapsed": true
   },
   "outputs": [],
   "source": [
    "model = RandomForestRegressor(n_estimators=10, min_samples_leaf=2, min_samples_split=4)"
   ]
  },
  {
   "cell_type": "code",
   "execution_count": 60,
   "metadata": {
    "collapsed": false
   },
   "outputs": [
    {
     "data": {
      "text/plain": [
       "RandomForestRegressor(bootstrap=True, criterion='mse', max_depth=None,\n",
       "           max_features='auto', max_leaf_nodes=None,\n",
       "           min_impurity_split=1e-07, min_samples_leaf=2,\n",
       "           min_samples_split=4, min_weight_fraction_leaf=0.0,\n",
       "           n_estimators=10, n_jobs=1, oob_score=False, random_state=None,\n",
       "           verbose=0, warm_start=False)"
      ]
     },
     "execution_count": 60,
     "metadata": {},
     "output_type": "execute_result"
    }
   ],
   "source": [
    "model.fit(X1, y1)"
   ]
  },
  {
   "cell_type": "code",
   "execution_count": 58,
   "metadata": {
    "collapsed": false
   },
   "outputs": [],
   "source": [
    "res = model.predict(X2)"
   ]
  },
  {
   "cell_type": "code",
   "execution_count": 61,
   "metadata": {
    "collapsed": false
   },
   "outputs": [
    {
     "data": {
      "text/plain": [
       "24.109993312042384"
      ]
     },
     "execution_count": 61,
     "metadata": {},
     "output_type": "execute_result"
    }
   ],
   "source": [
    "smape(res,y2)"
   ]
  },
  {
   "cell_type": "code",
   "execution_count": 62,
   "metadata": {
    "collapsed": false
   },
   "outputs": [
    {
     "name": "stdout",
     "output_type": "stream",
     "text": [
      "72457 72457\n"
     ]
    }
   ],
   "source": [
    "X = train.drop(['Num','y'], axis=1)\n",
    "y = train['y']\n",
    "print (len(X), len(y))"
   ]
  },
  {
   "cell_type": "code",
   "execution_count": 26,
   "metadata": {
    "collapsed": false
   },
   "outputs": [
    {
     "name": "stdout",
     "output_type": "stream",
     "text": [
      "2016\n",
      "2016\n",
      "CPU times: user 23.9 ms, sys: 2.22 ms, total: 26.1 ms\n",
      "Wall time: 24.8 ms\n"
     ]
    }
   ],
   "source": [
    "%%time\n",
    "\n",
    "preds = model.predict(test.drop(['Num'], axis=1))\n",
    "\n",
    "print (len(preds))\n",
    "print (len(sample_submission))"
   ]
  },
  {
   "cell_type": "code",
   "execution_count": 27,
   "metadata": {
    "collapsed": true
   },
   "outputs": [],
   "source": [
    "sample_submission['y'] = preds"
   ]
  },
  {
   "cell_type": "code",
   "execution_count": 28,
   "metadata": {
    "collapsed": false
   },
   "outputs": [
    {
     "data": {
      "text/html": [
       "<div>\n",
       "<table border=\"1\" class=\"dataframe\">\n",
       "  <thead>\n",
       "    <tr style=\"text-align: right;\">\n",
       "      <th></th>\n",
       "      <th>Num</th>\n",
       "      <th>y</th>\n",
       "    </tr>\n",
       "  </thead>\n",
       "  <tbody>\n",
       "    <tr>\n",
       "      <th>0</th>\n",
       "      <td>348622</td>\n",
       "      <td>1954.800000</td>\n",
       "    </tr>\n",
       "    <tr>\n",
       "      <th>1</th>\n",
       "      <td>348623</td>\n",
       "      <td>29373.700000</td>\n",
       "    </tr>\n",
       "    <tr>\n",
       "      <th>2</th>\n",
       "      <td>348624</td>\n",
       "      <td>343317.300000</td>\n",
       "    </tr>\n",
       "    <tr>\n",
       "      <th>3</th>\n",
       "      <td>348625</td>\n",
       "      <td>33851.533333</td>\n",
       "    </tr>\n",
       "    <tr>\n",
       "      <th>4</th>\n",
       "      <td>348626</td>\n",
       "      <td>72.333333</td>\n",
       "    </tr>\n",
       "  </tbody>\n",
       "</table>\n",
       "</div>"
      ],
      "text/plain": [
       "      Num              y\n",
       "0  348622    1954.800000\n",
       "1  348623   29373.700000\n",
       "2  348624  343317.300000\n",
       "3  348625   33851.533333\n",
       "4  348626      72.333333"
      ]
     },
     "execution_count": 28,
     "metadata": {},
     "output_type": "execute_result"
    }
   ],
   "source": [
    "sample_submission.head(5)"
   ]
  },
  {
   "cell_type": "code",
   "execution_count": 29,
   "metadata": {
    "collapsed": false
   },
   "outputs": [
    {
     "name": "stdout",
     "output_type": "stream",
     "text": [
      "Empty DataFrame\n",
      "Columns: [Num, y]\n",
      "Index: []\n"
     ]
    }
   ],
   "source": [
    "# In GBM you can get some negative predictions:\n",
    "print (sample_submission[sample_submission['y'] < 0])"
   ]
  },
  {
   "cell_type": "code",
   "execution_count": 30,
   "metadata": {
    "collapsed": true
   },
   "outputs": [],
   "source": [
    "sample_submission['y'] = sample_submission['y'].map(lambda x: x if x > 0 else 0.0)"
   ]
  },
  {
   "cell_type": "code",
   "execution_count": 31,
   "metadata": {
    "collapsed": true
   },
   "outputs": [],
   "source": [
    "sample_submission.to_csv(\"my_submission3.tsv\", sep=',', index=False)"
   ]
  },
  {
   "cell_type": "code",
   "execution_count": null,
   "metadata": {
    "collapsed": true
   },
   "outputs": [],
   "source": []
  }
 ],
 "metadata": {
  "anaconda-cloud": {},
  "kernelspec": {
   "display_name": "Python [conda root]",
   "language": "python",
   "name": "conda-root-py"
  },
  "language_info": {
   "codemirror_mode": {
    "name": "ipython",
    "version": 3
   },
   "file_extension": ".py",
   "mimetype": "text/x-python",
   "name": "python",
   "nbconvert_exporter": "python",
   "pygments_lexer": "ipython3",
   "version": "3.5.2"
  }
 },
 "nbformat": 4,
 "nbformat_minor": 0
}
